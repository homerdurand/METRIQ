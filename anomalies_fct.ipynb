{
 "cells": [
  {
   "cell_type": "markdown",
   "metadata": {},
   "source": [
    "# Fonctions et variables utilisées dans anomalies"
   ]
  },
  {
   "cell_type": "code",
   "execution_count": 2,
   "metadata": {},
   "outputs": [],
   "source": [
    "# Imortation des dataframes de base\n",
    "%run dataframes.ipynb"
   ]
  },
  {
   "cell_type": "code",
   "execution_count": null,
   "metadata": {},
   "outputs": [],
   "source": [
    "### GENERATION DES ECARTS ###\n",
    "\n",
    "# Construction d'un df contenant les différents types écarts de chaque thème\n",
    "def ecarts_df_f(count_df):\n",
    "    ecarts = []\n",
    "    for theme in themes:\n",
    "        vecteur = count_df[theme].values\n",
    "        moyenne = np.mean(vecteur)\n",
    "        ecartAbs = max(vecteur-moyenne)\n",
    "        ecartRel = ecartAbs/moyenne\n",
    "        ecartSqrt = ecartAbs/np.sqrt(moyenne)\n",
    "        ecarts.append({\n",
    "            \"theme\":theme,\n",
    "            \"vecteur\":vecteur,\n",
    "            \"moyenne\": moyenne,\n",
    "            \"ecartAbs\" : ecartAbs,\n",
    "            \"ecartRel\" : ecartRel,\n",
    "            \"ecartSqrt\" : ecartSqrt\n",
    "        })\n",
    "    return pd.DataFrame(ecarts).set_index('theme')"
   ]
  },
  {
   "cell_type": "code",
   "execution_count": null,
   "metadata": {},
   "outputs": [],
   "source": [
    "ecarts = ecarts_df_f(count_df)"
   ]
  },
  {
   "cell_type": "code",
   "execution_count": null,
   "metadata": {},
   "outputs": [],
   "source": [
    "### AFFICHAGES ###\n",
    "\n",
    "# Affichage des k thèmes avec leur.s période.s correspondante.s\n",
    "def show_count_df(themes_to_show, k = 4, c = 2, figsize = (20,12)):\n",
    "    fig, axes = plt.subplots(ncols = c, nrows = k//c+k%c,figsize = figsize)\n",
    "    for i in range(k):\n",
    "        theme = themes_to_show[i]\n",
    "        axe = axes[i//c,i%c]\n",
    "        try:\n",
    "            count_df.plot(y=theme,ax=axe)\n",
    "        except Exception as e:\n",
    "            print('Could\\'nt print <',theme, '> because :', e)"
   ]
  },
  {
   "cell_type": "code",
   "execution_count": null,
   "metadata": {},
   "outputs": [],
   "source": [
    "### DETECTIONS DES PICS ###\n",
    "\n",
    "# Détection du plus gros pic\n",
    "def max_pic_date(theme):\n",
    "    return count_df[theme].idxmax(axis=0)\n",
    "\n",
    "# Dates des pics repérés, selon la méthode utilisée\n",
    "def pics_dates(theme, method = 'max'):\n",
    "    if method == 'max':\n",
    "        return [max_pic_date(theme)]"
   ]
  },
  {
   "cell_type": "code",
   "execution_count": null,
   "metadata": {},
   "outputs": [],
   "source": [
    "### DETECTIONS DES PERIODES CORRESPONDANTES AUX PICS ###\n",
    "\n",
    "# Détection de la période correspondante à un pic\n",
    "def pic_period_above_mean(theme,pic_date):\n",
    "    pre_pic, post_pic = pic_date, pic_date\n",
    "    m = ecarts['moyenne'][theme]\n",
    "    dates_inf = count_df[count_df[theme]<m].index\n",
    "    for i_date in range(len(dates_inf)):\n",
    "        date = dates_inf[i_date]\n",
    "        if date > pic_date:\n",
    "            post_pic = date\n",
    "            pre_pic = dates_inf[i_date-1]\n",
    "            break\n",
    "    print('Periode:',pre_pic,post_pic)\n",
    "    return (pre_pic,post_pic)\n",
    "\n",
    "# Détection de la période correspondante à un pic, selon la méthode utilisée\n",
    "def pic_period(theme, pic_date, method = 'above_mean'):\n",
    "    if method == 'above_mean':\n",
    "        return pic_period_above_mean(theme,pic_date)"
   ]
  },
  {
   "cell_type": "code",
   "execution_count": 1,
   "metadata": {},
   "outputs": [],
   "source": [
    "### UTILES A L'ANALYSE ###\n",
    "\n",
    "# Fonction de repérage de thèmes \n",
    "def reperage_themes(m_meilleurs_themes = 'ecartSqrt', m_detect_pic = 'max', m_period_pic = 'above_mean', nb_to_show = 4, aleatoire  = False, show_figure = True, c = 2):\n",
    "    # On prend nb_to_show thèmes aléatoires :\n",
    "    if aleatoire:\n",
    "        themes_to_show = [themes[i] for i in np.random.randint(len(themes),size = k)]\n",
    "    # Ou bien les nb_to_show thèmes avec les meilleurs pics :\n",
    "    else:\n",
    "        themes_to_show = ecarts.sort_values(ascending = False,by=m_meilleurs_themes).head(nb_to_show).index\n",
    "        \n",
    "    # Affichage des figures obtenues:\n",
    "    if show_figure:\n",
    "        fig, axes = plt.subplots(ncols = c, nrows = nb_to_show//c+nb_to_show%c,figsize = (30,20))\n",
    "        for i in range(nb_to_show):\n",
    "            theme = themes_to_show[i]\n",
    "            axe = axes[i//c,i%c]\n",
    "            count_df.plot(y=theme,ax=axe)\n",
    "\n",
    "            for date in pics_dates(theme,m_detect_pic):\n",
    "                inf,sup = pic_period(theme,date,m_period_pic)\n",
    "                try:\n",
    "                    count_df[(count_df.index>=inf) & (count_df.index<=sup)].plot(y=theme,ax=axe)\n",
    "                except Exception as e:\n",
    "                    print('Could\\'nt print <',theme, '> because :', e)\n",
    "                    \n",
    "    return ecarts.sort_values(ascending = False,by=m_meilleurs_themes).head(nb_to_show)[[m_meilleurs_themes,'moyenne']]\n",
    "\n",
    "# Renvoie le df de questions d'un theme asssociés à une période \n",
    "def df_periode(theme,periode,plot = True):\n",
    "    mois = pd.Timedelta('30 days')\n",
    "    debut, fin = periode\n",
    "    if plot:\n",
    "        ax = count_df[(count_df.index>=debut - mois) & (count_df.index<=fin + mois)].plot(y=theme,figsize = (12,5))\n",
    "        count_df[(count_df.index>=debut) & (count_df.index<=fin)].plot(y=theme,ax = ax)\n",
    "    return questions_df[(questions_df.date_question>=debut) & (questions_df.date_question<=fin) & (questions_df.rubrique == theme)].sort_values('date_question').set_index('date_question')\n",
    "\n",
    "# Les groupes les plus présents sur un df de questions\n",
    "def ordre_groupes(data):\n",
    "    return data.groupby('groupe_auteur').count().sort_values(by='question',ascending = False)[['question','date_reponse']]\n",
    "\n",
    "# Les ministres les plus adressés sur un df de questions\n",
    "def ordre_ministres(data):\n",
    "    return data.groupby('ministere_adresse').count().sort_values(by='question',ascending = False)[['question','date_reponse']]"
   ]
  }
 ],
 "metadata": {
  "kernelspec": {
   "display_name": "Python 3",
   "language": "python",
   "name": "python3"
  },
  "language_info": {
   "codemirror_mode": {
    "name": "ipython",
    "version": 3
   },
   "file_extension": ".py",
   "mimetype": "text/x-python",
   "name": "python",
   "nbconvert_exporter": "python",
   "pygments_lexer": "ipython3",
   "version": "3.7.3"
  }
 },
 "nbformat": 4,
 "nbformat_minor": 2
}
